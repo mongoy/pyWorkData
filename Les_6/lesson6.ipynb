{
 "cells": [
  {
   "cell_type": "code",
   "execution_count": 1,
   "metadata": {},
   "outputs": [
    {
     "data": {
      "text/plain": [
       "'D:\\\\!PROJ\\\\pyWorkData\\\\Les_6'"
      ]
     },
     "execution_count": 1,
     "metadata": {},
     "output_type": "execute_result"
    }
   ],
   "source": [
    "import os\n",
    "\n",
    "# Рабочая директория\n",
    "ROOT_DIR = os.path.abspath(os.curdir)\n",
    "ROOT_DIR"
   ]
  },
  {
   "cell_type": "code",
   "execution_count": 2,
   "metadata": {},
   "outputs": [],
   "source": [
    "# читаем файл\n",
    "inp_file = os.path.join(ROOT_DIR, r\"visit_log.csv\")\n",
    "f = open(inp_file, \"r\")"
   ]
  },
  {
   "cell_type": "code",
   "execution_count": 3,
   "metadata": {},
   "outputs": [
    {
     "data": {
      "text/plain": [
       "'user_id,source\\n'"
      ]
     },
     "execution_count": 3,
     "metadata": {},
     "output_type": "execute_result"
    }
   ],
   "source": [
    "# 1я строка (одна в памяти) читается один раз\n",
    "f.readline()"
   ]
  },
  {
   "cell_type": "code",
   "execution_count": 4,
   "metadata": {},
   "outputs": [
    {
     "data": {
      "text/plain": [
       "'6450655ae8,other\\n'"
      ]
     },
     "execution_count": 4,
     "metadata": {},
     "output_type": "execute_result"
    }
   ],
   "source": [
    "# еще одна строка\n",
    "f.readline()\n",
    "# или \n",
    "# next(f)"
   ]
  },
  {
   "cell_type": "code",
   "execution_count": 5,
   "metadata": {},
   "outputs": [],
   "source": [
    "# читаем весь файл и чтение 5и первых строк (большие затраты памяти)\n",
    "# content = f.readlines()\n",
    "# content[:5]"
   ]
  },
  {
   "cell_type": "code",
   "execution_count": 6,
   "metadata": {},
   "outputs": [
    {
     "name": "stdout",
     "output_type": "stream",
     "text": [
      "b4ea53e670,other\n",
      "\n"
     ]
    }
   ],
   "source": [
    "# чтение построчно всего файла (получим 4ю строку)\n",
    "for line in f:\n",
    "    print(line)\n",
    "    break"
   ]
  },
  {
   "cell_type": "code",
   "execution_count": 7,
   "metadata": {},
   "outputs": [],
   "source": [
    "# Упражнение\n",
    "inp_file1 = os.path.join(ROOT_DIR, r\"visit_log.csv\")\n",
    "f_visits = open(inp_file1, \"r\")\n",
    "inp_file2 = os.path.join(ROOT_DIR, r\"visit_context.csv\")\n",
    "f_contexts = open(inp_file2, \"w\")\n",
    "\n",
    "for line in f_visits:\n",
    "    if 'context' in line:\n",
    "        f_contexts.write(line)"
   ]
  },
  {
   "cell_type": "code",
   "execution_count": 23,
   "metadata": {},
   "outputs": [],
   "source": [
    "# тоже с контекстным мэнэджером ВАР.1\n",
    "with open(inp_file1, \"r\") as f_visits:\n",
    "    with open(os.path.join(ROOT_DIR, r\"visit_contextV1.csv\"), \"w\") as f_contexts:\n",
    "        for line in f_visits:\n",
    "            if 'context' in line:\n",
    "                f_contexts.write(line) "
   ]
  },
  {
   "cell_type": "code",
   "execution_count": 27,
   "metadata": {},
   "outputs": [],
   "source": [
    "# тоже с контекстным мэнэджером ВАР.2\n",
    "o = open\n",
    "with o(inp_file1, \"r\") as f_visits, \\\n",
    "    o(os.path.join(ROOT_DIR, r\"visit_contextV2.csv\"), \"w\") as f_contexts:\n",
    "        for line in f_visits:\n",
    "            if 'context' in line:\n",
    "                f_contexts.write(line) "
   ]
  },
  {
   "cell_type": "code",
   "execution_count": 17,
   "metadata": {},
   "outputs": [
    {
     "name": "stdout",
     "output_type": "stream",
     "text": [
      "{'user_id': 'user_id', 'category': 'category'} <class 'dict'>\n",
      "{'user_id': '1840e0b9d4', 'category': 'Продукты'} <class 'dict'>\n",
      "{'user_id': '4e4f90fcfb', 'category': 'Электроника'} <class 'dict'>\n",
      "{'user_id': 'afea8d72fc', 'category': 'Электроника'} <class 'dict'>\n",
      "{'user_id': '373a6055fe', 'category': 'Бытовая техника'} <class 'dict'>\n",
      "{'user_id': '9b2ab046f3', 'category': 'Электроника'} <class 'dict'>\n"
     ]
    }
   ],
   "source": [
    "import json\n",
    "\n",
    "with open(\"purchase_log.txt\", encoding=\"UTF-8\") as f:\n",
    "    for count_l, line in enumerate(f):\n",
    "        line = line.strip()  # удаляем перенос строки (\"\\n\") и лишние пробелы \n",
    "        \n",
    "        dict_ = json.loads(line)\n",
    "        print(dict_, type(dict_))\n",
    "        \n",
    "        if count_l == 5:\n",
    "            break\n",
    "        "
   ]
  },
  {
   "cell_type": "markdown",
   "metadata": {},
   "source": [
    "### Модуль pickle\n",
    "Запись объекта сразу в файл как поток байтов\n",
    "\n",
    "import pickle\n",
    "\n",
    "data = {'user_id': '1840e0b9d4', 'category': 'Продукты'}\n",
    "\n",
    "with open('data.pickle', 'wb') as f:\n",
    "\n",
    "pickle.dump(data, f)\n",
    "    \n",
    "#### прочитать объект из такого файла\n",
    "with open('data.pickle', 'rb') as f:\n",
    "    \n",
    "    dict_ = pickle.load(f)\n",
    "    \n",
    "dict_, dict_['user_id']"
   ]
  },
  {
   "cell_type": "code",
   "execution_count": 10,
   "metadata": {},
   "outputs": [
    {
     "name": "stdout",
     "output_type": "stream",
     "text": [
      "Файлы в папке 'data':\n",
      "file_1.csv\n",
      "file_2.csv\n",
      "file_3.csv\n"
     ]
    }
   ],
   "source": [
    "#\n",
    "print(\"Файлы в папке 'data':\")\n",
    "for file in os.listdir(\"data\"):\n",
    "    if '.csv' in file:  # отфильтруем по расширению строка file содержит '.csv'\n",
    "        print(file)"
   ]
  },
  {
   "cell_type": "code",
   "execution_count": 11,
   "metadata": {},
   "outputs": [
    {
     "name": "stdout",
     "output_type": "stream",
     "text": [
      "Файлы и подпапки в 'data':\n",
      "data ['more_data'] ['file_1.csv', 'file_2.csv', 'file_3.csv']\n",
      "data\\more_data [] ['file_4.csv', 'file_5.csv']\n"
     ]
    }
   ],
   "source": [
    "#\n",
    "print(\"Файлы и подпапки в 'data':\")\n",
    "for root, directory, file in os.walk(\"data\"):\n",
    "    print(root, directory, file)"
   ]
  },
  {
   "cell_type": "code",
   "execution_count": 12,
   "metadata": {},
   "outputs": [
    {
     "data": {
      "text/plain": [
       "1595491678.1219761"
      ]
     },
     "execution_count": 12,
     "metadata": {},
     "output_type": "execute_result"
    }
   ],
   "source": [
    "# время создания файла в секундах с 01.01.1970\n",
    "os.path.getmtime(r'data\\file_3.csv')"
   ]
  },
  {
   "cell_type": "markdown",
   "metadata": {},
   "source": [
    "### ДЗ"
   ]
  },
  {
   "cell_type": "code",
   "execution_count": 13,
   "metadata": {},
   "outputs": [],
   "source": [
    "inp_file3 = os.path.join(ROOT_DIR, \"purchase_log.txt\")\n",
    "p_log = open(inp_file3, \"r\", encoding=\"UTF-8\")"
   ]
  },
  {
   "cell_type": "code",
   "execution_count": 14,
   "metadata": {},
   "outputs": [],
   "source": [
    "purchase_log = p_log.readlines()"
   ]
  },
  {
   "cell_type": "code",
   "execution_count": 15,
   "metadata": {},
   "outputs": [
    {
     "ename": "IndentationError",
     "evalue": "expected an indented block (<ipython-input-15-edc2671cf0b9>, line 11)",
     "output_type": "error",
     "traceback": [
      "\u001b[1;36m  File \u001b[1;32m\"<ipython-input-15-edc2671cf0b9>\"\u001b[1;36m, line \u001b[1;32m11\u001b[0m\n\u001b[1;33m    dict_funnel[dict_log[\"user_id\"]] = dict_log[\"category\"]\u001b[0m\n\u001b[1;37m              ^\u001b[0m\n\u001b[1;31mIndentationError\u001b[0m\u001b[1;31m:\u001b[0m expected an indented block\n"
     ]
    }
   ],
   "source": [
    "dict_funnel = {}\n",
    "# \n",
    "with open(\"funnel.csv\", \"w\") as funnel:\n",
    "    with open(\"visit_log.csv\", \"r\") as visit_log:\n",
    "        for count_row, row in enumerate(purchase_log):\n",
    "            if count_row > 0:\n",
    "                row = row.strip()  # удаляем перенос строки (\"\\n\") и лишние пробелы \n",
    "                dict_log = json.loads(row)\n",
    "        #         print(dict_log)\n",
    "                if  dict_log[\"user_id\"] in visit_log:\n",
    "                dict_funnel[dict_log[\"user_id\"]] = dict_log[\"category\"]\n",
    "        #         print(dict_funnel)\n",
    "                 \n",
    "                if count_row == 5:\n",
    "                    funnel.write = \n",
    "                    break\n",
    "    \n",
    "    "
   ]
  },
  {
   "cell_type": "code",
   "execution_count": null,
   "metadata": {},
   "outputs": [],
   "source": []
  },
  {
   "cell_type": "code",
   "execution_count": null,
   "metadata": {},
   "outputs": [],
   "source": []
  }
 ],
 "metadata": {
  "kernelspec": {
   "display_name": "Python 3",
   "language": "python",
   "name": "python3"
  },
  "language_info": {
   "codemirror_mode": {
    "name": "ipython",
    "version": 3
   },
   "file_extension": ".py",
   "mimetype": "text/x-python",
   "name": "python",
   "nbconvert_exporter": "python",
   "pygments_lexer": "ipython3",
   "version": "3.6.10"
  }
 },
 "nbformat": 4,
 "nbformat_minor": 4
}
